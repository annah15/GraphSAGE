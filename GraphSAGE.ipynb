{
 "cells": [
  {
   "cell_type": "code",
   "execution_count": 3,
   "metadata": {},
   "outputs": [],
   "source": [
    "import torch\n",
    "from torch_geometric.datasets import TUDataset\n",
    "import numpy as np\n",
    "import matplotlib.pyplot as plt"
   ]
  },
  {
   "cell_type": "code",
   "execution_count": 9,
   "metadata": {},
   "outputs": [
    {
     "name": "stdout",
     "output_type": "stream",
     "text": [
      "Dataset: PROTEINS(1113)\n",
      "-------------------\n",
      "Number of graphs: 1113\n",
      "Number of nodes: 42\n",
      "Number of features: 4\n",
      "Number of classes: 2\n",
      "\n",
      "Graph:\n",
      "------\n",
      "Edges are directed: False\n",
      "Graph has isolated nodes: False\n",
      "Graph has loops: False\n"
     ]
    }
   ],
   "source": [
    "#Download PROTEINS dataset and save in data\n",
    "dataset = TUDataset(root=\"data\", name=\"PROTEINS\", use_node_attr=True)\n",
    "data = dataset[0]\n",
    "\n",
    "#Print information about the dataset\n",
    "print(f'Dataset: {dataset}')\n",
    "print('-------------------')\n",
    "print(f'Number of graphs: {len(dataset)}')\n",
    "print(f'Number of nodes: {data.num_nodes}')\n",
    "print(f'Number of features: {dataset.num_features}')\n",
    "print(f'Number of classes: {dataset.num_classes}')\n",
    "\n",
    "# Print information about the graph\n",
    "print(f'\\nGraph:')\n",
    "print('------')\n",
    "print(f'Edges are directed: {data.is_directed()}')\n",
    "print(f'Graph has isolated nodes: {data.has_isolated_nodes()}')\n",
    "print(f'Graph has loops: {data.has_self_loops()}')"
   ]
  },
  {
   "cell_type": "code",
   "execution_count": null,
   "metadata": {},
   "outputs": [],
   "source": [
    "#TODO: implement Mini Batching"
   ]
  },
  {
   "cell_type": "code",
   "execution_count": 10,
   "metadata": {},
   "outputs": [],
   "source": [
    "from torch_geometric.nn import SAGEConv\n",
    "import torch.nn.functional as F\n",
    "from torch.nn import Dropout, Linear\n",
    "\n",
    "class SAGE(torch.nn.Module):\n",
    "    def __init__(self, in_channels, hidden_channels, out_channels, num_layers=2, aggregator_type=\"mean\"):\n",
    "        super().__init__()\n",
    "        self.num_layers = num_layers\n",
    "        #SAGEConv layers\n",
    "        self.sage_in = SAGEConv(in_channels, hidden_channels)\n",
    "        self.sage_hid = SAGEConv(hidden_channels, hidden_channels)\n",
    "        self.sage_out = SAGEConv(hidden_channels, out_channels)\n",
    "        #Use Adam optimaizer vgl Experimental Setup\n",
    "        self.optimizer = torch.optim.Adam(self.parameters)\n",
    "    \n",
    "    \"\"\"\n",
    "    Forward Propagation\n",
    "    Params:\n",
    "        x input vector \n",
    "        edge_index adjacency matrix \n",
    "    \"\"\"\n",
    "    def forward(self, x, edge_index):\n",
    "        h = self.sage_in(x, edge_index)\n",
    "        h = torch.nn.ReLU(h)\n",
    "        #Number of hidden layers\n",
    "        for _ in range(self.num_layers - 2):\n",
    "            h = self.sage_hid(h, edge_index)\n",
    "            h = torch.nn.ReLU(h)\n",
    "        h = self.sage_out(h, edge_index)\n",
    "        return h\n"
   ]
  }
 ],
 "metadata": {
  "kernelspec": {
   "display_name": "Python 3.10.6 ('GNN')",
   "language": "python",
   "name": "python3"
  },
  "language_info": {
   "codemirror_mode": {
    "name": "ipython",
    "version": 3
   },
   "file_extension": ".py",
   "mimetype": "text/x-python",
   "name": "python",
   "nbconvert_exporter": "python",
   "pygments_lexer": "ipython3",
   "version": "3.10.6"
  },
  "orig_nbformat": 4,
  "vscode": {
   "interpreter": {
    "hash": "f421deb9efadc0f436611e51624019c47b0612442c52c8cd7c27dd454d47f273"
   }
  }
 },
 "nbformat": 4,
 "nbformat_minor": 2
}
