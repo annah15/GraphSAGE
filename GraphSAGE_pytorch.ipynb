{
 "cells": [
  {
   "cell_type": "code",
   "execution_count": 212,
   "metadata": {},
   "outputs": [],
   "source": [
    "import torch\n",
    "import torch.nn.functional as F\n",
    "from torch.utils.data import DataLoader, TensorDataset\n",
    "from torch_geometric.datasets import Planetoid\n",
    "import torch_geometric.transforms as T\n",
    "from sklearn.metrics import f1_score\n",
    "import numpy as np\n",
    "import networkx as nx\n",
    "import matplotlib.pyplot as plt"
   ]
  },
  {
   "cell_type": "code",
   "execution_count": 213,
   "metadata": {},
   "outputs": [],
   "source": [
    "S = (25, 10)\n",
    "K = 2\n",
    "OUT_DIM = 256\n",
    "HID_DIM = 1024\n",
    "EPOCHS = 10"
   ]
  },
  {
   "cell_type": "markdown",
   "metadata": {},
   "source": [
    "Download Dataset and create mini-batching of training data"
   ]
  },
  {
   "cell_type": "code",
   "execution_count": 214,
   "metadata": {},
   "outputs": [
    {
     "name": "stdout",
     "output_type": "stream",
     "text": [
      "tensor([1, 1, 0, 2, 1, 2, 2, 1, 2, 1, 2, 2, 2, 2, 2, 0, 1, 2, 1, 2, 2, 1, 2, 2,\n",
      "        2, 1, 2, 2, 2, 1, 1, 1, 2, 1, 0, 0, 1, 1, 0, 2, 0, 1, 0, 1, 1, 1, 1, 0,\n",
      "        0, 0, 0, 0, 0, 0, 0, 0, 0, 0, 0, 0])\n"
     ]
    }
   ],
   "source": [
    "#Download Pubmed dataset and save in data\n",
    "dataset = Planetoid(root=\"data\", name=\"Pubmed\", transform=T.NormalizeFeatures())\n",
    "data = dataset[0]\n",
    "\n",
    "feat_data = {'train' : data.x[data.train_mask],\n",
    "        'val' : data.x[data.val_mask],\n",
    "        'test' : data.x[data.test_mask]}\n",
    "label = {'train' : data.y[data.train_mask],\n",
    "        'val' : data.y[data.val_mask],\n",
    "        'test' : data.y[data.test_mask]}\n",
    "indices = {'train' : [i for i, x in enumerate(data.train_mask) if x],\n",
    "        'val' : [i for i, x in enumerate(data.val_mask) if x],\n",
    "        'test' : [i for i, x in enumerate(data.test_mask) if x]}\n",
    "\n",
    "#mini-batching of training data\n",
    "#train_batches = DataLoader(TensorDataset(feat_data['train'], label['train']), batch_size=4)\n",
    "\n",
    "adj_list = [[] for _ in range(data.num_nodes)]\n",
    "for edge in data.edge_index.T:\n",
    "        list.append(adj_list[edge[0].item()], edge[1].item())\n",
    "        list.append(adj_list[edge[1].item()], edge[0].item())\n",
    "print(label['train'])"
   ]
  },
  {
   "cell_type": "code",
   "execution_count": 215,
   "metadata": {},
   "outputs": [
    {
     "name": "stdout",
     "output_type": "stream",
     "text": [
      "Dataset: Pubmed()\n",
      "-------------------\n",
      "Number of graphs: 1\n",
      "Number of nodes: 19717\n",
      "Number of features: 500\n",
      "Number of classes: 3\n",
      "\n",
      "Graph:\n",
      "------\n",
      "Training nodes: 60\n",
      "Evaluation nodes: 500\n",
      "Testing nodes: 1000\n"
     ]
    }
   ],
   "source": [
    "#Print information about the dataset\n",
    "print(f'Dataset: {dataset}')\n",
    "print('-------------------')\n",
    "print(f'Number of graphs: {len(dataset)}')\n",
    "print(f'Number of nodes: {data.num_nodes}')\n",
    "print(f'Number of features: {dataset.num_features}')\n",
    "print(f'Number of classes: {dataset.num_classes}')\n",
    "\n",
    "# Print information about the graph\n",
    "print(f'\\nGraph:')\n",
    "print('------')\n",
    "print(f'Training nodes: {sum(data.train_mask).item()}')\n",
    "#print(f'Training nodes: {next(iter(train_batches))[1].shape}')\n",
    "print(f'Evaluation nodes: {sum(data.val_mask).item()}')\n",
    "#print(f'Evaluation nodes: {len(label[\"val\"])}')\n",
    "print(f'Testing nodes: {sum(data.test_mask).item()}')\n",
    "#print(f'Testing nodes: {len(label[\"test\"])}')\n"
   ]
  },
  {
   "cell_type": "markdown",
   "metadata": {},
   "source": [
    "Neighborhood Sampler"
   ]
  },
  {
   "cell_type": "code",
   "execution_count": 216,
   "metadata": {},
   "outputs": [],
   "source": [
    "import random\n",
    "\"\"\" \n",
    "Neighborhood Sampler\n",
    "Params:\n",
    "    node index of node the neighborhood should be sampled of\n",
    "    sample_size number of sampled nodes\n",
    "Returns:\n",
    "    index list of nodes in neigborhood of node\n",
    "\"\"\"\n",
    "def sample(node, sample_size):\n",
    "        return random.choices(adj_list[node], k=sample_size) "
   ]
  },
  {
   "cell_type": "markdown",
   "metadata": {},
   "source": [
    "Aggregator function"
   ]
  },
  {
   "cell_type": "code",
   "execution_count": 217,
   "metadata": {},
   "outputs": [],
   "source": [
    "class MaxPoolingAggregator(torch.nn.Module):\n",
    "    \"\"\" \n",
    "    AGGREGATOR: Max Pooling\n",
    "    Params:\n",
    "        in_channels feature size of each input sample\n",
    "        out_channel feature size of each output sample\n",
    "    \"\"\"\n",
    "    def __init__(self, in_channels, out_channels):\n",
    "        super(MaxPoolingAggregator, self).__init__()\n",
    "        #fully connected layer with learnable weights\n",
    "        self.fc_layer = torch.nn.Linear(in_channels, out_channels, bias=True)\n",
    "    \"\"\"\n",
    "    Forward Propagation\n",
    "    Params:\n",
    "        neighborhood neigborhood sample of imput node to be aggregated\n",
    "    feed neighborhood of node through fully connected layer and non linearity\n",
    "    return maximum of all neighbors\n",
    "    \"\"\"\n",
    "    def forward(self, neigborhood):\n",
    "        out = []\n",
    "        for h in neigborhood:\n",
    "            h = self.fc_layer(h).relu()\n",
    "            list.append(out, h)\n",
    "            #print(out.size)\n",
    "        return torch.amax(torch.stack(out), 0)"
   ]
  },
  {
   "cell_type": "markdown",
   "metadata": {},
   "source": [
    "Graph SAGE model"
   ]
  },
  {
   "cell_type": "code",
   "execution_count": 218,
   "metadata": {},
   "outputs": [],
   "source": [
    "class GraphSAGE(torch.nn.Module):\n",
    "    \"\"\" \n",
    "    GraphSAGE model\n",
    "    Params:\n",
    "        in_channels feature size of each input sample\n",
    "        hidden_channels feature size of each hidden sample\n",
    "        out_channel feature size of each output sample\n",
    "        num_layers =K number of message passing layers\n",
    "    \"\"\"\n",
    "    def __init__(self, in_channels, hidden_channels, out_channels, num_classes):\n",
    "        super().__init__()\n",
    "        self.aggregate = MaxPoolingAggregator(in_channels, hidden_channels)\n",
    "        self.linears = torch.nn.ModuleList([torch.nn.Linear(in_channels + hidden_channels, out_channels), \n",
    "                                            torch.nn.Linear(out_channels + hidden_channels, out_channels)])\n",
    "        #Use Adam optimizer vgl Experimental Setup\n",
    "        self.optimizer = torch.optim.Adam(self.parameters(), lr=0.1)\n",
    "        #Cross entropy loss for supervised learning \n",
    "        self.loss_fn = F.cross_entropy\n",
    "        self.lin_out = torch.nn.Linear(out_channels, num_classes, bias=False)\n",
    "\n",
    "    \"\"\"\n",
    "    Forward Propagation\n",
    "    Params:\n",
    "        data feature vectors\n",
    "        input_idx index of input vectors in original ds\n",
    "    \"\"\"\n",
    "    def forward(self, d, input_idx):\n",
    "        x = d\n",
    "        y = torch.empty(len(input_idx), OUT_DIM)\n",
    "        for k in range(K):\n",
    "            for i, idx in enumerate(input_idx):\n",
    "                neighborhood_features  = data.x[sample(idx, S[k])]\n",
    "                h_n = self.aggregate(neighborhood_features)\n",
    "                h = torch.cat((x[i], h_n))\n",
    "                h = self.linears[k](h)\n",
    "                y[i]= F.normalize(h, dim=-1)\n",
    "            x = y\n",
    "        x = self.lin_out(x)\n",
    "        return x"
   ]
  },
  {
   "cell_type": "code",
   "execution_count": 219,
   "metadata": {},
   "outputs": [],
   "source": [
    "def train(model, nodes):\n",
    "    model.train()\n",
    "    model.optimizer.zero_grad()\n",
    "    output = model(feat_data['train'], nodes)\n",
    "    loss = model.loss_fn(output, label['train'])\n",
    "    loss.backward()\n",
    "    model.optimizer.step()\n",
    "    return loss\n",
    "\n",
    "@torch.no_grad()\n",
    "def evaluate(model, nodes):\n",
    "    model.eval()\n",
    "    output = model(feat_data['val'], nodes)\n",
    "    loss = model.loss_fn(output, label['val'])\n",
    "    f1 = 7#f1_score(label['val'], output)\n",
    "    return loss, f1\n",
    "    "
   ]
  },
  {
   "cell_type": "code",
   "execution_count": 220,
   "metadata": {},
   "outputs": [
    {
     "name": "stdout",
     "output_type": "stream",
     "text": [
      "GraphSAGE(\n",
      "  (aggregate): MaxPoolingAggregator(\n",
      "    (fc_layer): Linear(in_features=500, out_features=1024, bias=True)\n",
      "  )\n",
      "  (linears): ModuleList(\n",
      "    (0): Linear(in_features=1524, out_features=256, bias=True)\n",
      "    (1): Linear(in_features=1280, out_features=256, bias=True)\n",
      "  )\n",
      "  (lin_out): Linear(in_features=256, out_features=3, bias=False)\n",
      ")\n",
      "Training Loss:  1.0982948541641235 Val Loss:  1.1890017986297607\n",
      "Training Loss:  1.1284199953079224 Val Loss:  1.1802783012390137\n",
      "Training Loss:  1.0648726224899292 Val Loss:  1.0188194513320923\n",
      "Training Loss:  0.8965503573417664 Val Loss:  0.9695037007331848\n",
      "Training Loss:  0.8570196032524109 Val Loss:  0.9431026577949524\n",
      "Training Loss:  0.7806505560874939 Val Loss:  0.9108964800834656\n",
      "Training Loss:  0.7475452423095703 Val Loss:  0.9382311105728149\n",
      "Training Loss:  0.7598782181739807 Val Loss:  0.94178307056427\n",
      "Training Loss:  0.739013671875 Val Loss:  0.9190537333488464\n",
      "Training Loss:  0.7312538027763367 Val Loss:  0.8925129771232605\n"
     ]
    }
   ],
   "source": [
    "model = GraphSAGE(data.num_node_features, HID_DIM, OUT_DIM, dataset.num_classes)\n",
    "print(model)\n",
    "\n",
    "for epoch in range(EPOCHS):\n",
    "    loss = train(model, indices['train'])\n",
    "    val_loss, f1 = evaluate(model, indices['val'])\n",
    "    print(\"Training Loss: \", loss.item(), \"Val Loss: \", val_loss.item())#, \"F1: \", f1)"
   ]
  }
 ],
 "metadata": {
  "kernelspec": {
   "display_name": "Python 3.10.6 ('GNN')",
   "language": "python",
   "name": "python3"
  },
  "language_info": {
   "codemirror_mode": {
    "name": "ipython",
    "version": 3
   },
   "file_extension": ".py",
   "mimetype": "text/x-python",
   "name": "python",
   "nbconvert_exporter": "python",
   "pygments_lexer": "ipython3",
   "version": "3.10.6"
  },
  "orig_nbformat": 4,
  "vscode": {
   "interpreter": {
    "hash": "f421deb9efadc0f436611e51624019c47b0612442c52c8cd7c27dd454d47f273"
   }
  }
 },
 "nbformat": 4,
 "nbformat_minor": 2
}
