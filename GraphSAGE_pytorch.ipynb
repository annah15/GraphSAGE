{
 "cells": [
  {
   "cell_type": "code",
   "execution_count": 387,
   "metadata": {},
   "outputs": [],
   "source": [
    "import torch\n",
    "import torch.nn.functional as F\n",
    "from torch.utils.data import DataLoader, TensorDataset"
   ]
  },
  {
   "cell_type": "code",
   "execution_count": 388,
   "metadata": {},
   "outputs": [
    {
     "name": "stdout",
     "output_type": "stream",
     "text": [
      "mps\n"
     ]
    }
   ],
   "source": [
    "device = torch.device(\"mps\" if torch.backends.mps.is_available() else \"cpu\")\n",
    "print(device)"
   ]
  },
  {
   "cell_type": "code",
   "execution_count": 389,
   "metadata": {},
   "outputs": [],
   "source": [
    "S = (25, 10)\n",
    "K = 2\n",
    "OUT_DIM = 256\n",
    "HID_DIM = 512\n",
    "EPOCHS = 10"
   ]
  },
  {
   "cell_type": "markdown",
   "metadata": {},
   "source": [
    "Download Dataset and create mini-batching of training data"
   ]
  },
  {
   "cell_type": "code",
   "execution_count": 390,
   "metadata": {},
   "outputs": [
    {
     "data": {
      "text/plain": [
       "tensor([[0.0000, 0.0000, 0.0000,  ..., 0.0000, 0.0000, 0.0000],\n",
       "        [0.0000, 0.0000, 0.0000,  ..., 0.0000, 0.0000, 0.0000],\n",
       "        [0.1046, 0.0000, 0.0000,  ..., 0.0000, 0.0000, 0.0000],\n",
       "        ...,\n",
       "        [0.0000, 0.0194, 0.0080,  ..., 0.0000, 0.0000, 0.0000],\n",
       "        [0.1078, 0.0000, 0.0000,  ..., 0.0000, 0.0000, 0.0000],\n",
       "        [0.0000, 0.0266, 0.0000,  ..., 0.0000, 0.0000, 0.0000]])"
      ]
     },
     "execution_count": 390,
     "metadata": {},
     "output_type": "execute_result"
    }
   ],
   "source": [
    "from torch_geometric.datasets import Planetoid\n",
    "#Download Pubmed dataset and save in data\n",
    "dataset = Planetoid(root=\"data\", name=\"Pubmed\")\n",
    "data = dataset[0]\n",
    "setattr(data, \"node_idx\", torch.arange(data.num_nodes))\n",
    "\n",
    "adj_list = [[] for _ in range(data.num_nodes)]\n",
    "for edge in data.edge_index.T:\n",
    "        list.append(adj_list[edge[0].item()], edge[1].item())\n",
    "        list.append(adj_list[edge[1].item()], edge[0].item())\n",
    "adj_list = adj_list\n",
    "data.x"
   ]
  },
  {
   "cell_type": "code",
   "execution_count": 391,
   "metadata": {},
   "outputs": [
    {
     "name": "stdout",
     "output_type": "stream",
     "text": [
      "Dataset: Pubmed()\n",
      "-------------------\n",
      "Number of graphs: 1\n",
      "Number of nodes: 19717\n",
      "Number of features: 500\n",
      "Number of classes: 3\n",
      "\n",
      "Graph:\n",
      "------\n",
      "Training nodes: 60\n",
      "Evaluation nodes: 500\n",
      "Testing nodes: 1000\n"
     ]
    }
   ],
   "source": [
    "#Print information about the dataset\n",
    "print(f'Dataset: {dataset}')\n",
    "print('-------------------')\n",
    "print(f'Number of graphs: {len(dataset)}')\n",
    "print(f'Number of nodes: {data.num_nodes}')\n",
    "print(f'Number of features: {dataset.num_features}')\n",
    "print(f'Number of classes: {dataset.num_classes}')\n",
    "\n",
    "# Print information about the graph\n",
    "print(f'\\nGraph:')\n",
    "print('------')\n",
    "print(f'Training nodes: {sum(data.train_mask).item()}')\n",
    "#print(f'Training nodes: {next(iter(train_batches))[1].shape}')\n",
    "print(f'Evaluation nodes: {sum(data.val_mask).item()}')\n",
    "#print(f'Evaluation nodes: {len(label[\"val\"])}')\n",
    "print(f'Testing nodes: {sum(data.test_mask).item()}')\n",
    "#print(f'Testing nodes: {len(label[\"test\"])}')\n"
   ]
  },
  {
   "cell_type": "code",
   "execution_count": 392,
   "metadata": {},
   "outputs": [],
   "source": [
    "#mini-batching of training data\n",
    "train_batches = DataLoader(TensorDataset(data.node_idx[data.train_mask], data.x[data.train_mask], data.y[data.train_mask]), batch_size=16)"
   ]
  },
  {
   "cell_type": "markdown",
   "metadata": {},
   "source": [
    "Neighborhood Sampler"
   ]
  },
  {
   "cell_type": "code",
   "execution_count": 393,
   "metadata": {},
   "outputs": [
    {
     "name": "stdout",
     "output_type": "stream",
     "text": [
      "torch.Size([1290])\n"
     ]
    }
   ],
   "source": [
    "import random\n",
    "\"\"\" \n",
    "Neighborhood Sampler\n",
    "Params:\n",
    "    node index of node the neighborhood should be sampled of\n",
    "Returns:\n",
    "    index list of nodes in neigborhood of node\n",
    "\"\"\"\n",
    "def sample(batch):\n",
    "    neigh_hop1 = []\n",
    "    neigh_hop2 = []\n",
    "    for node in batch:\n",
    "        neigh_hop1.append(torch.tensor(random.choices(adj_list[node], k=S[0])))\n",
    "    hop1_idx = torch.unique(torch.cat([batch, torch.cat(neigh_hop1)]))\n",
    "    for node in hop1_idx:\n",
    "        neigh_hop2.append(torch.tensor(random.choices(adj_list[node], k=S[1])))\n",
    "    hop2_idx = torch.unique(torch.cat([hop1_idx, torch.cat(neigh_hop2)]))\n",
    "    return (hop2_idx, hop1_idx, batch), (neigh_hop1 + neigh_hop2, neigh_hop1)\n",
    "\n",
    "B, N = sample(data.node_idx[data.train_mask])\n",
    "print(B[0].shape)"
   ]
  },
  {
   "cell_type": "markdown",
   "metadata": {},
   "source": [
    "Aggregator function"
   ]
  },
  {
   "cell_type": "code",
   "execution_count": 394,
   "metadata": {},
   "outputs": [],
   "source": [
    "class MaxPoolingAggregator(torch.nn.Module):\n",
    "    \"\"\" \n",
    "    AGGREGATOR: Max Pooling\n",
    "    Params:\n",
    "        in_channels feature size of each input sample\n",
    "        out_channel feature size of each output sample\n",
    "    \"\"\"\n",
    "    def __init__(self, in_channels, out_channels):\n",
    "        super(MaxPoolingAggregator, self).__init__()\n",
    "        #fully connected layer with learnable weights\n",
    "        self.fc_layer = torch.nn.Linear(in_channels, out_channels, bias=True)\n",
    "    \"\"\"\n",
    "    Forward Propagation\n",
    "    Params:\n",
    "        neighborhood neigborhood sample of imput node to be aggregated\n",
    "    feed neighborhood of node through fully connected layer and non linearity\n",
    "    return maximum of all neighbors\n",
    "    \"\"\"\n",
    "    def forward(self, neighbors):\n",
    "        out = []\n",
    "        for h in neighbors:\n",
    "            h = self.fc_layer(h).relu()\n",
    "            out.append(h)\n",
    "        return torch.amax(torch.stack(out), 0).requires_grad_()"
   ]
  },
  {
   "cell_type": "markdown",
   "metadata": {},
   "source": [
    "Graph SAGE model"
   ]
  },
  {
   "cell_type": "code",
   "execution_count": 395,
   "metadata": {},
   "outputs": [],
   "source": [
    "class GraphSAGE(torch.nn.Module):\n",
    "    \"\"\" \n",
    "    GraphSAGE model\n",
    "    Params:\n",
    "        in_channels feature size of each input sample\n",
    "        hidden_channels feature size of each hidden sample\n",
    "        out_channel feature size of each output sample\n",
    "        num_layers =K number of message passing layers\n",
    "    \"\"\"\n",
    "    def __init__(self, in_channels, hidden_channels, out_channels, num_classes):\n",
    "        super().__init__()\n",
    "        self.aggregate = torch.nn.ModuleList([MaxPoolingAggregator(in_channels, hidden_channels), \n",
    "                                              MaxPoolingAggregator(in_channels, hidden_channels)])\n",
    "        self.linears = torch.nn.ModuleList([torch.nn.Linear(in_channels + hidden_channels, out_channels, bias=False), \n",
    "                                            torch.nn.Linear(out_channels + hidden_channels, out_channels, bias=False)])\n",
    "        #Use Adam optimizer vgl Experimental Setup\n",
    "        self.optimizer = torch.optim.Adam(self.parameters(), lr=0.1)\n",
    "        #Cross entropy loss for supervised learning \n",
    "        self.loss_fn = F.cross_entropy\n",
    "        self.lin_out = torch.nn.Linear(out_channels, num_classes, bias=False)\n",
    "\n",
    "    \"\"\"\n",
    "    Forward Propagation\n",
    "    Params:\n",
    "        x data object (node indeces, node features, node lable)\n",
    "\n",
    "    \"\"\"\n",
    "    def forward(self, x, idx):\n",
    "        #neighbors and lists of neighbors in each iteration\n",
    "        B, N = sample(idx)\n",
    "        #vectors of embeddings ????\n",
    "        z = [data.x[B[0]]]\n",
    "        for k in range(K):\n",
    "            z.append(torch.empty(len(B[k+1]), OUT_DIM))\n",
    "            for i, u in enumerate(B[k+1]):\n",
    "                h_n = self.aggregate[k](data.x[N[k][i]])\n",
    "                h = torch.cat((z[k][i], h_n))\n",
    "                h = self.linears[k](h).relu()\n",
    "                h = F.normalize(h, dim=-1)\n",
    "                z[k+1][i] = h\n",
    "        return self.lin_out(z[K])\n"
   ]
  },
  {
   "cell_type": "code",
   "execution_count": 399,
   "metadata": {},
   "outputs": [],
   "source": [
    "def accuracy(pred_y, y):\n",
    "    \"\"\"Calculate accuracy.\"\"\"\n",
    "    return ((pred_y == y).sum() / len(y)).item()\n",
    "\n",
    "def test(model, data):\n",
    "    \"\"\"Evaluate the model on test set and print the accuracy score.\"\"\"\n",
    "    model.eval()\n",
    "    out = model(data.x[data.test_mask], data.node_idx[data.test_mask])\n",
    "    acc = accuracy(out.argmax(dim=1), data.y[data.test_mask])\n",
    "    return acc"
   ]
  },
  {
   "cell_type": "code",
   "execution_count": 397,
   "metadata": {},
   "outputs": [],
   "source": [
    "def train(model):\n",
    "    model.train()\n",
    "    for epoch in range(EPOCHS+1):\n",
    "        total_loss = 0\n",
    "        acc = 0\n",
    "\n",
    "        for batch in train_batches:\n",
    "            model.optimizer.zero_grad()\n",
    "            out = model(batch[1], batch[0])\n",
    "            loss = model.loss_fn(out, batch[2])\n",
    "            total_loss += loss\n",
    "            acc += accuracy(out.argmax(dim=1), batch[2])\n",
    "            loss.backward()\n",
    "            model.optimizer.step()\n",
    "\n",
    "        print(f'Epoch {epoch:>3} | Train Loss: {loss/len(train_batches):.3f} '\n",
    "          f'| Train Acc: {acc/len(train_batches)*100:>6.2f}%')"
   ]
  },
  {
   "cell_type": "code",
   "execution_count": 400,
   "metadata": {},
   "outputs": [
    {
     "name": "stdout",
     "output_type": "stream",
     "text": [
      "GraphSAGE(\n",
      "  (aggregate): ModuleList(\n",
      "    (0): MaxPoolingAggregator(\n",
      "      (fc_layer): Linear(in_features=500, out_features=512, bias=True)\n",
      "    )\n",
      "    (1): MaxPoolingAggregator(\n",
      "      (fc_layer): Linear(in_features=500, out_features=512, bias=True)\n",
      "    )\n",
      "  )\n",
      "  (linears): ModuleList(\n",
      "    (0): Linear(in_features=1012, out_features=256, bias=False)\n",
      "    (1): Linear(in_features=768, out_features=256, bias=False)\n",
      "  )\n",
      "  (lin_out): Linear(in_features=256, out_features=3, bias=False)\n",
      ")\n",
      "Epoch   0 | Train Loss: 0.342 | Train Acc:  26.56%\n",
      "Epoch   1 | Train Loss: 0.335 | Train Acc:  31.25%\n",
      "Epoch   2 | Train Loss: 0.328 | Train Acc:  37.50%\n",
      "Epoch   3 | Train Loss: 0.317 | Train Acc:  50.00%\n",
      "Epoch   4 | Train Loss: 0.296 | Train Acc:  62.50%\n",
      "Epoch   5 | Train Loss: 0.265 | Train Acc:  62.50%\n",
      "Epoch   6 | Train Loss: 0.252 | Train Acc:  87.50%\n",
      "Epoch   7 | Train Loss: 0.243 | Train Acc:  97.92%\n",
      "Epoch   8 | Train Loss: 0.238 | Train Acc:  97.92%\n",
      "Epoch   9 | Train Loss: 0.235 | Train Acc: 100.00%\n",
      "Epoch  10 | Train Loss: 0.234 | Train Acc: 100.00%\n",
      "\n",
      "GraphSAGE test accuracy: 67.60%\n",
      "\n"
     ]
    }
   ],
   "source": [
    "model = GraphSAGE(data.num_node_features, HID_DIM, OUT_DIM, dataset.num_classes)\n",
    "print(model)\n",
    "\n",
    "train(model)\n",
    "\n",
    "print(f'\\nGraphSAGE test accuracy: {test(model, data)*100:.2f}%\\n')"
   ]
  }
 ],
 "metadata": {
  "kernelspec": {
   "display_name": "GraphSAGE",
   "language": "python",
   "name": "python3"
  },
  "language_info": {
   "codemirror_mode": {
    "name": "ipython",
    "version": 3
   },
   "file_extension": ".py",
   "mimetype": "text/x-python",
   "name": "python",
   "nbconvert_exporter": "python",
   "pygments_lexer": "ipython3",
   "version": "3.11.0"
  },
  "orig_nbformat": 4,
  "vscode": {
   "interpreter": {
    "hash": "40dd3be4591e485ceb09a22c9bdf05339f1f00bbe6906d4b44d11b6d23f25a46"
   }
  }
 },
 "nbformat": 4,
 "nbformat_minor": 2
}
