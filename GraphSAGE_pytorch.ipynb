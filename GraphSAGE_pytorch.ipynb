{
 "cells": [
  {
   "cell_type": "code",
   "execution_count": 66,
   "metadata": {},
   "outputs": [],
   "source": [
    "import torch\n",
    "import torch.nn.functional as F\n",
    "from torch.utils.data import DataLoader, TensorDataset\n",
    "from torch_geometric.datasets import Planetoid\n",
    "import numpy as np\n",
    "import networkx as nx\n",
    "import matplotlib.pyplot as plt"
   ]
  },
  {
   "cell_type": "code",
   "execution_count": 48,
   "metadata": {},
   "outputs": [],
   "source": [
    "S_1 = 25\n",
    "S_2 = 10\n",
    "K = 2\n",
    "OUT_DIM = 256\n",
    "HID_DIM = 512\n",
    "EPOCHS = 10"
   ]
  },
  {
   "cell_type": "markdown",
   "metadata": {},
   "source": [
    "Download Dataset and create mini-batching of training data"
   ]
  },
  {
   "cell_type": "code",
   "execution_count": 85,
   "metadata": {},
   "outputs": [],
   "source": [
    "#Download PROTEINS dataset and save in data\n",
    "dataset = Planetoid(root=\"data\", name=\"CiteSeer\")\n",
    "data = dataset[0]\n",
    "\n",
    "feat_data = {'train' : data.x[data.train_mask],\n",
    "        'val' : data.x[data.val_mask],\n",
    "        'test' : data.x[data.test_mask]}\n",
    "label = {'train' : data.y[data.train_mask],\n",
    "        'val' : data.y[data.val_mask],\n",
    "        'test' : data.y[data.test_mask]}\n",
    "#mini-batching of training data\n",
    "#train_batches = DataLoader(TensorDataset(feat_data['train'], label['train']), batch_size=4)\n",
    "\n",
    "adj_list = [[] for _ in range(data.num_nodes)]\n",
    "for edge in data.edge_index.T:\n",
    "        list.append(adj_list[edge[0].item()], edge[1].item())\n"
   ]
  },
  {
   "cell_type": "code",
   "execution_count": 29,
   "metadata": {},
   "outputs": [
    {
     "name": "stdout",
     "output_type": "stream",
     "text": [
      "Dataset: CiteSeer()\n",
      "-------------------\n",
      "Number of graphs: 1\n",
      "Number of nodes: 3327\n",
      "Number of features: 3703\n",
      "Number of classes: 6\n",
      "\n",
      "Graph:\n",
      "------\n",
      "Training nodes: 120\n",
      "Evaluation nodes: 500\n",
      "Testing nodes: 1000\n"
     ]
    }
   ],
   "source": [
    "#Print information about the dataset\n",
    "print(f'Dataset: {dataset}')\n",
    "print('-------------------')\n",
    "print(f'Number of graphs: {len(dataset)}')\n",
    "print(f'Number of nodes: {data.num_nodes}')\n",
    "print(f'Number of features: {dataset.num_features}')\n",
    "print(f'Number of classes: {dataset.num_classes}')\n",
    "\n",
    "# Print information about the graph\n",
    "print(f'\\nGraph:')\n",
    "print('------')\n",
    "print(f'Training nodes: {sum(data.train_mask).item()}')\n",
    "#print(f'Training nodes: {next(iter(train_batches))[1].shape}')\n",
    "print(f'Evaluation nodes: {sum(data.val_mask).item()}')\n",
    "#print(f'Evaluation nodes: {len(label[\"val\"])}')\n",
    "print(f'Testing nodes: {sum(data.test_mask).item()}')\n",
    "#print(f'Testing nodes: {len(label[\"test\"])}')\n"
   ]
  },
  {
   "cell_type": "markdown",
   "metadata": {},
   "source": [
    "Neighborhood Sampler"
   ]
  },
  {
   "cell_type": "code",
   "execution_count": 49,
   "metadata": {},
   "outputs": [],
   "source": [
    "import random\n",
    "def sample(node, sample_size):\n",
    "    if len(adj_list[node]) < sample_size:\n",
    "        return adj_list[node]\n",
    "    else:\n",
    "        return random.sample(adj_list[node], k=sample_size) "
   ]
  },
  {
   "cell_type": "markdown",
   "metadata": {},
   "source": [
    "Aggregator function"
   ]
  },
  {
   "cell_type": "code",
   "execution_count": 51,
   "metadata": {},
   "outputs": [],
   "source": [
    "class MaxPoolingAggregator(torch.nn.Module):\n",
    "    \"\"\" \n",
    "    AGGREGATOR: Max Pooling\n",
    "    Params:\n",
    "        in_channels feature size of each input sample\n",
    "        out_channel feature size of each output sample\n",
    "    \"\"\"\n",
    "    def __init__(self, in_channels, out_channels):\n",
    "        super(MaxPoolingAggregator, self).__init__()\n",
    "        #fully connected layer with learnable weights\n",
    "        self.fc_layer = torch.nn.Linear(in_channels, out_channels, bias=True)\n",
    "        #non-linearity -> ReLu\n",
    "        self.non_lin = F.relu()\n",
    "    \"\"\"\n",
    "    Forward Propagation\n",
    "    Params:\n",
    "        neighborhood neigborhood sample of imput node to be aggregated\n",
    "    feed neighborhood of node through fully connected layer and non linearity\n",
    "    return maximum of all neighbors\n",
    "    \"\"\"\n",
    "    def forward(self, neigborhood):\n",
    "        out = np.array([])\n",
    "        for h in neigborhood:\n",
    "            h = self.fc_layer(h)\n",
    "            h = self.non_lin(h)\n",
    "            np.append(out, h)\n",
    "        return np.max(out)"
   ]
  },
  {
   "cell_type": "markdown",
   "metadata": {},
   "source": [
    "Graph SAGE model"
   ]
  },
  {
   "cell_type": "code",
   "execution_count": null,
   "metadata": {},
   "outputs": [],
   "source": [
    "class GraphSAGE(torch.nn.Module):\n",
    "    \"\"\" \n",
    "    GraphSAGE model\n",
    "    Params:\n",
    "        in_channels feature size of each input sample\n",
    "        hidden_channels feature size of each hidden sample\n",
    "        out_channel feature size of each output sample\n",
    "        num_layers =K number of message passing layers\n",
    "    \"\"\"\n",
    "    def __init__(self, in_channels, hidden_channels, out_channels, num_layers=K):\n",
    "        super(GraphSAGE, self).__init__()\n",
    "        #Use Adam optimaizer vgl Experimental Setup\n",
    "        self.optimizer = torch.optim.Adam(self.parameters())\n",
    "        #Cross entropy loss for supervised learning \n",
    "        self.loss_fn = F.cross_entropy()\n",
    "        self.aggregate = MaxPoolingAggregator(in_channels, hidden_channels)\n",
    "        self.fc_layer1 = torch.nn.Linear(in_channels + hidden_channels, out_channels)\n",
    "        self.fc_layer2 = torch.nn.Linear(in_channels + hidden_channels, out_channels)\n",
    "\n",
    "    \"\"\"\n",
    "    Forward Propagation\n",
    "    Params:\n",
    "        x input vector \n",
    "        edge_index adjacency matrix \n",
    "    \"\"\"\n",
    "    "
   ]
  }
 ],
 "metadata": {
  "kernelspec": {
   "display_name": "Python 3.10.6 ('GNN')",
   "language": "python",
   "name": "python3"
  },
  "language_info": {
   "codemirror_mode": {
    "name": "ipython",
    "version": 3
   },
   "file_extension": ".py",
   "mimetype": "text/x-python",
   "name": "python",
   "nbconvert_exporter": "python",
   "pygments_lexer": "ipython3",
   "version": "3.10.6"
  },
  "orig_nbformat": 4,
  "vscode": {
   "interpreter": {
    "hash": "f421deb9efadc0f436611e51624019c47b0612442c52c8cd7c27dd454d47f273"
   }
  }
 },
 "nbformat": 4,
 "nbformat_minor": 2
}
